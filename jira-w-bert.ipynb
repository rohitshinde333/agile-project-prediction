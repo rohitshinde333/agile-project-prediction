{
 "cells": [
  {
   "cell_type": "code",
   "execution_count": 1,
   "metadata": {
    "execution": {
     "iopub.execute_input": "2024-04-16T18:20:06.543881Z",
     "iopub.status.busy": "2024-04-16T18:20:06.543436Z",
     "iopub.status.idle": "2024-04-16T18:20:06.550069Z",
     "shell.execute_reply": "2024-04-16T18:20:06.549175Z",
     "shell.execute_reply.started": "2024-04-16T18:20:06.543801Z"
    },
    "papermill": {
     "duration": 0.79742,
     "end_time": "2024-04-17T07:22:42.352268",
     "exception": false,
     "start_time": "2024-04-17T07:22:41.554848",
     "status": "completed"
    },
    "tags": []
   },
   "outputs": [],
   "source": [
    "import os\n",
    "import pathlib\n",
    "import pandas as pd\n",
    "from sklearn.metrics import classification_report\n",
    "os.environ[\"CUDA_DEVICE_ORDER\"]=\"PCI_BUS_ID\";\n",
    "os.environ[\"CUDA_VISIBLE_DEVICES\"]=\"0\"; "
   ]
  },
  {
   "cell_type": "code",
   "execution_count": 2,
   "metadata": {
    "execution": {
     "iopub.execute_input": "2024-04-16T18:20:06.552404Z",
     "iopub.status.busy": "2024-04-16T18:20:06.551983Z",
     "iopub.status.idle": "2024-04-16T18:20:13.930608Z",
     "shell.execute_reply": "2024-04-16T18:20:13.929692Z",
     "shell.execute_reply.started": "2024-04-16T18:20:06.552349Z"
    },
    "papermill": {
     "duration": 41.779802,
     "end_time": "2024-04-17T07:23:24.147801",
     "exception": false,
     "start_time": "2024-04-17T07:22:42.367999",
     "status": "completed"
    },
    "tags": []
   },
   "outputs": [
    {
     "name": "stdout",
     "output_type": "stream",
     "text": [
      "Collecting ktrain\r\n",
      "  Downloading ktrain-0.41.3.tar.gz (25.3 MB)\r\n",
      "\u001b[K     |████████████████████████████████| 25.3 MB 10.0 MB/s \r\n",
      "\u001b[?25hRequirement already satisfied: scikit-learn in /opt/conda/lib/python3.7/site-packages (from ktrain) (0.22.2.post1)\r\n",
      "Requirement already satisfied: matplotlib>=3.0.0 in /opt/conda/lib/python3.7/site-packages (from ktrain) (3.1.3)\r\n",
      "Requirement already satisfied: pandas>=1.0.1 in /opt/conda/lib/python3.7/site-packages (from ktrain) (1.0.1)\r\n",
      "Requirement already satisfied: fastprogress>=0.1.21 in /opt/conda/lib/python3.7/site-packages (from ktrain) (0.2.3)\r\n",
      "Requirement already satisfied: requests in /opt/conda/lib/python3.7/site-packages (from ktrain) (2.23.0)\r\n",
      "Requirement already satisfied: joblib in /opt/conda/lib/python3.7/site-packages (from ktrain) (0.14.1)\r\n",
      "Requirement already satisfied: packaging in /opt/conda/lib/python3.7/site-packages (from ktrain) (20.1)\r\n",
      "Collecting langdetect\r\n",
      "  Downloading langdetect-1.0.9.tar.gz (981 kB)\r\n",
      "\u001b[K     |████████████████████████████████| 981 kB 69.2 MB/s \r\n",
      "\u001b[?25hRequirement already satisfied: jieba in /opt/conda/lib/python3.7/site-packages (from ktrain) (0.42.1)\r\n",
      "Collecting charset-normalizer\r\n",
      "  Downloading charset_normalizer-3.3.2-cp37-cp37m-manylinux_2_17_x86_64.manylinux2014_x86_64.whl (136 kB)\r\n",
      "\u001b[K     |████████████████████████████████| 136 kB 48.2 MB/s \r\n",
      "\u001b[?25hRequirement already satisfied: chardet in /opt/conda/lib/python3.7/site-packages (from ktrain) (3.0.4)\r\n",
      "Collecting syntok>1.3.3\r\n",
      "  Downloading syntok-1.4.4-py3-none-any.whl (24 kB)\r\n",
      "Collecting tika\r\n",
      "  Downloading tika-2.6.0.tar.gz (27 kB)\r\n",
      "Requirement already satisfied: transformers in /opt/conda/lib/python3.7/site-packages (from ktrain) (2.8.0)\r\n",
      "Requirement already satisfied: sentencepiece in /opt/conda/lib/python3.7/site-packages (from ktrain) (0.1.85)\r\n",
      "Collecting keras_bert>=0.86.0\r\n",
      "  Downloading keras-bert-0.89.0.tar.gz (25 kB)\r\n",
      "Collecting whoosh\r\n",
      "  Downloading Whoosh-2.7.4-py2.py3-none-any.whl (468 kB)\r\n",
      "\u001b[K     |████████████████████████████████| 468 kB 45.4 MB/s \r\n",
      "\u001b[?25hRequirement already satisfied: numpy>=1.11.0 in /opt/conda/lib/python3.7/site-packages (from scikit-learn->ktrain) (1.18.1)\r\n",
      "Requirement already satisfied: scipy>=0.17.0 in /opt/conda/lib/python3.7/site-packages (from scikit-learn->ktrain) (1.4.1)\r\n",
      "Requirement already satisfied: kiwisolver>=1.0.1 in /opt/conda/lib/python3.7/site-packages (from matplotlib>=3.0.0->ktrain) (1.1.0)\r\n",
      "Requirement already satisfied: cycler>=0.10 in /opt/conda/lib/python3.7/site-packages (from matplotlib>=3.0.0->ktrain) (0.10.0)\r\n",
      "Requirement already satisfied: python-dateutil>=2.1 in /opt/conda/lib/python3.7/site-packages (from matplotlib>=3.0.0->ktrain) (2.8.1)\r\n",
      "Requirement already satisfied: pyparsing!=2.0.4,!=2.1.2,!=2.1.6,>=2.0.1 in /opt/conda/lib/python3.7/site-packages (from matplotlib>=3.0.0->ktrain) (2.4.6)\r\n",
      "Requirement already satisfied: pytz>=2017.2 in /opt/conda/lib/python3.7/site-packages (from pandas>=1.0.1->ktrain) (2019.3)\r\n",
      "Requirement already satisfied: certifi>=2017.4.17 in /opt/conda/lib/python3.7/site-packages (from requests->ktrain) (2020.4.5.1)\r\n",
      "Requirement already satisfied: idna<3,>=2.5 in /opt/conda/lib/python3.7/site-packages (from requests->ktrain) (2.9)\r\n",
      "Requirement already satisfied: urllib3!=1.25.0,!=1.25.1,<1.26,>=1.21.1 in /opt/conda/lib/python3.7/site-packages (from requests->ktrain) (1.25.7)\r\n",
      "Requirement already satisfied: six in /opt/conda/lib/python3.7/site-packages (from packaging->ktrain) (1.14.0)\r\n",
      "Requirement already satisfied: regex>2016 in /opt/conda/lib/python3.7/site-packages (from syntok>1.3.3->ktrain) (2020.4.4)\r\n",
      "Requirement already satisfied: setuptools in /opt/conda/lib/python3.7/site-packages (from tika->ktrain) (45.2.0.post20200209)\r\n",
      "Requirement already satisfied: filelock in /opt/conda/lib/python3.7/site-packages (from transformers->ktrain) (3.0.10)\r\n",
      "Requirement already satisfied: sacremoses in /opt/conda/lib/python3.7/site-packages (from transformers->ktrain) (0.0.41)\r\n",
      "Requirement already satisfied: tokenizers==0.5.2 in /opt/conda/lib/python3.7/site-packages (from transformers->ktrain) (0.5.2)\r\n",
      "Requirement already satisfied: tqdm>=4.27 in /opt/conda/lib/python3.7/site-packages (from transformers->ktrain) (4.43.0)\r\n",
      "Requirement already satisfied: boto3 in /opt/conda/lib/python3.7/site-packages (from transformers->ktrain) (1.12.41)\r\n",
      "Collecting keras-transformer==0.40.0\r\n",
      "  Downloading keras-transformer-0.40.0.tar.gz (9.7 kB)\r\n",
      "Requirement already satisfied: click in /opt/conda/lib/python3.7/site-packages (from sacremoses->transformers->ktrain) (7.0)\r\n",
      "Requirement already satisfied: botocore<1.16.0,>=1.15.41 in /opt/conda/lib/python3.7/site-packages (from boto3->transformers->ktrain) (1.15.41)\r\n",
      "Requirement already satisfied: s3transfer<0.4.0,>=0.3.0 in /opt/conda/lib/python3.7/site-packages (from boto3->transformers->ktrain) (0.3.3)\r\n",
      "Requirement already satisfied: jmespath<1.0.0,>=0.7.1 in /opt/conda/lib/python3.7/site-packages (from boto3->transformers->ktrain) (0.9.5)\r\n",
      "Collecting keras-pos-embd==0.13.0\r\n",
      "  Downloading keras-pos-embd-0.13.0.tar.gz (5.6 kB)\r\n",
      "Collecting keras-multi-head==0.29.0\r\n",
      "  Downloading keras-multi-head-0.29.0.tar.gz (13 kB)\r\n",
      "Collecting keras-layer-normalization==0.16.0\r\n",
      "  Downloading keras-layer-normalization-0.16.0.tar.gz (3.9 kB)\r\n",
      "Collecting keras-position-wise-feed-forward==0.8.0\r\n",
      "  Downloading keras-position-wise-feed-forward-0.8.0.tar.gz (4.1 kB)\r\n",
      "Collecting keras-embed-sim==0.10.0\r\n",
      "  Downloading keras-embed-sim-0.10.0.tar.gz (3.6 kB)\r\n",
      "Requirement already satisfied: docutils<0.16,>=0.10 in /opt/conda/lib/python3.7/site-packages (from botocore<1.16.0,>=1.15.41->boto3->transformers->ktrain) (0.15.2)\r\n",
      "Collecting keras-self-attention==0.51.0\r\n",
      "  Downloading keras-self-attention-0.51.0.tar.gz (11 kB)\r\n",
      "Building wheels for collected packages: ktrain, langdetect, tika, keras-bert, keras-transformer, keras-pos-embd, keras-multi-head, keras-layer-normalization, keras-position-wise-feed-forward, keras-embed-sim, keras-self-attention\r\n",
      "  Building wheel for ktrain (setup.py) ... \u001b[?25l-\b \b\\\b \b|\b \b/\b \b-\b \b\\\b \b|\b \bdone\r\n",
      "\u001b[?25h  Created wheel for ktrain: filename=ktrain-0.41.3-py3-none-any.whl size=25316969 sha256=a8fe97237a9e7f8bff23f269a199b3a52e8e4b6163e14a998756683e8cf9621c\r\n",
      "  Stored in directory: /root/.cache/pip/wheels/97/cd/a7/3ef9b6abdab10d64a111bac7f6f1cc4e9ea818c478335fb394\r\n",
      "  Building wheel for langdetect (setup.py) ... \u001b[?25l-\b \b\\\b \b|\b \b/\b \bdone\r\n",
      "\u001b[?25h  Created wheel for langdetect: filename=langdetect-1.0.9-py3-none-any.whl size=993222 sha256=a91908193d9bd5a0db52e79f4dc43d1975523c98742cbe3fd8f1e35da1655c20\r\n",
      "  Stored in directory: /root/.cache/pip/wheels/c5/96/8a/f90c59ed25d75e50a8c10a1b1c2d4c402e4dacfa87f3aff36a\r\n",
      "  Building wheel for tika (setup.py) ... \u001b[?25l-\b \b\\\b \bdone\r\n",
      "\u001b[?25h  Created wheel for tika: filename=tika-2.6.0-py3-none-any.whl size=32643 sha256=ab4084454d76dda38d4b0d0d137b1389c406d07f78f9a6281f5621b9bee20343\r\n",
      "  Stored in directory: /root/.cache/pip/wheels/d0/e8/f2/4d6ee3cf46b79e22dcc7d4cdcbeed804c985d346b44a213672\r\n",
      "  Building wheel for keras-bert (setup.py) ... \u001b[?25l-\b \b\\\b \bdone\r\n",
      "\u001b[?25h  Created wheel for keras-bert: filename=keras_bert-0.89.0-py3-none-any.whl size=33517 sha256=b0f6c83ed4a77283266c741d2818a0e802de54f6b440dbc8b21970e002a8a801\r\n",
      "  Stored in directory: /root/.cache/pip/wheels/a4/e8/45/842b3a39831261aef9154b907eacbc4ac99499a99ae829b06f\r\n",
      "  Building wheel for keras-transformer (setup.py) ... \u001b[?25l-\b \b\\\b \bdone\r\n",
      "\u001b[?25h  Created wheel for keras-transformer: filename=keras_transformer-0.40.0-py3-none-any.whl size=12303 sha256=ca40c27ad50f0e1dc03dff304d1224c11932b0b7afdf867eba09ecbe36e7bc47\r\n",
      "  Stored in directory: /root/.cache/pip/wheels/46/68/26/692ed21edd832833c3b0a0e21615bcacd99ca458b3f9ed571f\r\n",
      "  Building wheel for keras-pos-embd (setup.py) ... \u001b[?25l-\b \b\\\b \bdone\r\n",
      "\u001b[?25h  Created wheel for keras-pos-embd: filename=keras_pos_embd-0.13.0-py3-none-any.whl size=6961 sha256=37201b00649db385a223ef21a8f778dbebd0293ca634726fa160b7dd07ccbefc\r\n",
      "  Stored in directory: /root/.cache/pip/wheels/8d/c1/a0/dc44fcf68c857b7ff6be9a97e675e5adf51022eff1169b042f\r\n",
      "  Building wheel for keras-multi-head (setup.py) ... \u001b[?25l-\b \b\\\b \bdone\r\n",
      "\u001b[?25h  Created wheel for keras-multi-head: filename=keras_multi_head-0.29.0-py3-none-any.whl size=14992 sha256=1e12c353cd0bc890ea25954642e6bb7294aa3f3137288c3ee15303c9c31c3396\r\n",
      "  Stored in directory: /root/.cache/pip/wheels/86/aa/3c/9d15d24005179dae08ff291ce99c754b296347817d076fd9fb\r\n",
      "  Building wheel for keras-layer-normalization (setup.py) ... \u001b[?25l-\b \b\\\b \bdone\r\n",
      "\u001b[?25h  Created wheel for keras-layer-normalization: filename=keras_layer_normalization-0.16.0-py3-none-any.whl size=4668 sha256=edda4f96920a3b6538ebf9cf331e46bd7030ba42676d41b8f50a763c4fb1b266\r\n",
      "  Stored in directory: /root/.cache/pip/wheels/85/5d/1c/2e619f594f69fbcf8bc20943b27d414871c409be053994813e\r\n",
      "  Building wheel for keras-position-wise-feed-forward (setup.py) ... \u001b[?25l-\b \b\\\b \bdone\r\n",
      "\u001b[?25h  Created wheel for keras-position-wise-feed-forward: filename=keras_position_wise_feed_forward-0.8.0-py3-none-any.whl size=4983 sha256=e6bd3162eae0b119e461789fc0fc77f2c4dda15a0dc302dbea7953b551783cca\r\n",
      "  Stored in directory: /root/.cache/pip/wheels/c2/75/6f/d42f6e051506f442daeba53ff1e2d21a5f20ef8c411610f2bb\r\n",
      "  Building wheel for keras-embed-sim (setup.py) ... \u001b[?25l-\b \b\\\b \bdone\r\n",
      "\u001b[?25h  Created wheel for keras-embed-sim: filename=keras_embed_sim-0.10.0-py3-none-any.whl size=3958 sha256=6b0f52630eae95a289fd11682d5dfa0bb2d043e10d8bfb9f482eadb876f6d36c\r\n",
      "  Stored in directory: /root/.cache/pip/wheels/81/67/b5/d847588d075895281e1cf5590f819bd4cf076a554872268bd5\r\n",
      "  Building wheel for keras-self-attention (setup.py) ... \u001b[?25l-\b \b\\\b \bdone\r\n",
      "\u001b[?25h  Created wheel for keras-self-attention: filename=keras_self_attention-0.51.0-py3-none-any.whl size=18913 sha256=78c9b497bd587f47fcb9fe40732d07e8dddfcf615a4fb19a630d347def3d8224\r\n",
      "  Stored in directory: /root/.cache/pip/wheels/95/b1/a8/5ee00cc137940b2f6fa198212e8f45d813d0e0d9c3a04035a3\r\n",
      "Successfully built ktrain langdetect tika keras-bert keras-transformer keras-pos-embd keras-multi-head keras-layer-normalization keras-position-wise-feed-forward keras-embed-sim keras-self-attention\r\n",
      "Installing collected packages: langdetect, charset-normalizer, syntok, tika, keras-pos-embd, keras-self-attention, keras-multi-head, keras-layer-normalization, keras-position-wise-feed-forward, keras-embed-sim, keras-transformer, keras-bert, whoosh, ktrain\r\n",
      "Successfully installed charset-normalizer-3.3.2 keras-bert-0.89.0 keras-embed-sim-0.10.0 keras-layer-normalization-0.16.0 keras-multi-head-0.29.0 keras-pos-embd-0.13.0 keras-position-wise-feed-forward-0.8.0 keras-self-attention-0.51.0 keras-transformer-0.40.0 ktrain-0.41.3 langdetect-1.0.9 syntok-1.4.4 tika-2.6.0 whoosh-2.7.4\r\n"
     ]
    }
   ],
   "source": [
    "!pip install ktrain\n",
    "import ktrain\n",
    "from ktrain import text"
   ]
  },
  {
   "cell_type": "code",
   "execution_count": 3,
   "metadata": {
    "execution": {
     "iopub.execute_input": "2024-04-16T18:20:13.932625Z",
     "iopub.status.busy": "2024-04-16T18:20:13.932325Z",
     "iopub.status.idle": "2024-04-16T18:20:13.949544Z",
     "shell.execute_reply": "2024-04-16T18:20:13.948267Z",
     "shell.execute_reply.started": "2024-04-16T18:20:13.932580Z"
    },
    "papermill": {
     "duration": 0.069077,
     "end_time": "2024-04-17T07:23:24.267644",
     "exception": false,
     "start_time": "2024-04-17T07:23:24.198567",
     "status": "completed"
    },
    "tags": []
   },
   "outputs": [
    {
     "name": "stdout",
     "output_type": "stream",
     "text": [
      "Train data path set.\n",
      "Test data path set.\n"
     ]
    }
   ],
   "source": [
    "#check if the paths for the input data is valid.\n",
    "train_path=\"../input/sentimentdatasets/trainJira.csv\"\n",
    "test_path=\"../input/sentimentdatasets/testJira.csv\"\n",
    "tr_path= pathlib.Path(train_path)\n",
    "te_path=pathlib.Path(test_path)\n",
    "if tr_path.exists ():\n",
    "    print(\"Train data path set.\")\n",
    "else: \n",
    "    raise SystemExit(\"Train data path does not exist.\")\n",
    "     \n",
    "if te_path.exists ():\n",
    "    print(\"Test data path set.\")\n",
    "else: \n",
    "    raise SystemExit(\"Test data path does not exist.\")\n",
    "     "
   ]
  },
  {
   "cell_type": "code",
   "execution_count": 4,
   "metadata": {
    "execution": {
     "iopub.execute_input": "2024-04-16T18:20:13.951421Z",
     "iopub.status.busy": "2024-04-16T18:20:13.950977Z",
     "iopub.status.idle": "2024-04-16T18:20:14.096167Z",
     "shell.execute_reply": "2024-04-16T18:20:14.093641Z",
     "shell.execute_reply.started": "2024-04-16T18:20:13.951361Z"
    },
    "papermill": {
     "duration": 0.131566,
     "end_time": "2024-04-17T07:23:24.452761",
     "exception": false,
     "start_time": "2024-04-17T07:23:24.321195",
     "status": "completed"
    },
    "tags": []
   },
   "outputs": [
    {
     "data": {
      "text/html": [
       "<div>\n",
       "<style scoped>\n",
       "    .dataframe tbody tr th:only-of-type {\n",
       "        vertical-align: middle;\n",
       "    }\n",
       "\n",
       "    .dataframe tbody tr th {\n",
       "        vertical-align: top;\n",
       "    }\n",
       "\n",
       "    .dataframe thead th {\n",
       "        text-align: right;\n",
       "    }\n",
       "</style>\n",
       "<table border=\"1\" class=\"dataframe\">\n",
       "  <thead>\n",
       "    <tr style=\"text-align: right;\">\n",
       "      <th></th>\n",
       "      <th>0</th>\n",
       "      <th>1</th>\n",
       "      <th>2</th>\n",
       "    </tr>\n",
       "  </thead>\n",
       "  <tbody>\n",
       "    <tr>\n",
       "      <th>0</th>\n",
       "      <td>409</td>\n",
       "      <td>I'm backporting this to 3.4 and 3.3 branches. ...</td>\n",
       "      <td>neutral</td>\n",
       "    </tr>\n",
       "    <tr>\n",
       "      <th>1</th>\n",
       "      <td>485</td>\n",
       "      <td>+1 overall. Here are the results of testing th...</td>\n",
       "      <td>neutral</td>\n",
       "    </tr>\n",
       "    <tr>\n",
       "      <th>2</th>\n",
       "      <td>611</td>\n",
       "      <td>Bug Flavio more? Seriously</td>\n",
       "      <td>negative</td>\n",
       "    </tr>\n",
       "    <tr>\n",
       "      <th>3</th>\n",
       "      <td>644</td>\n",
       "      <td>Integrated in ZooKeeper-trunk #1266 (See https...</td>\n",
       "      <td>neutral</td>\n",
       "    </tr>\n",
       "    <tr>\n",
       "      <th>4</th>\n",
       "      <td>927</td>\n",
       "      <td>The patch no longer applies. Abmar</td>\n",
       "      <td>neutral</td>\n",
       "    </tr>\n",
       "  </tbody>\n",
       "</table>\n",
       "</div>"
      ],
      "text/plain": [
       "     0                                                  1         2\n",
       "0  409  I'm backporting this to 3.4 and 3.3 branches. ...   neutral\n",
       "1  485  +1 overall. Here are the results of testing th...   neutral\n",
       "2  611                         Bug Flavio more? Seriously  negative\n",
       "3  644  Integrated in ZooKeeper-trunk #1266 (See https...   neutral\n",
       "4  927                 The patch no longer applies. Abmar   neutral"
      ]
     },
     "execution_count": 4,
     "metadata": {},
     "output_type": "execute_result"
    }
   ],
   "source": [
    "#showing the first 5 lines of the train data\n",
    "train_df=pd.read_csv(train_path, encoding=\"utf-16\", header=None)\n",
    "train_df.head()\n"
   ]
  },
  {
   "cell_type": "code",
   "execution_count": 5,
   "metadata": {
    "execution": {
     "iopub.status.busy": "2024-04-16T18:20:14.097159Z",
     "iopub.status.idle": "2024-04-16T18:20:14.097892Z"
    },
    "papermill": {
     "duration": 0.090703,
     "end_time": "2024-04-17T07:23:24.593631",
     "exception": false,
     "start_time": "2024-04-17T07:23:24.502928",
     "status": "completed"
    },
    "tags": []
   },
   "outputs": [
    {
     "data": {
      "text/html": [
       "<div>\n",
       "<style scoped>\n",
       "    .dataframe tbody tr th:only-of-type {\n",
       "        vertical-align: middle;\n",
       "    }\n",
       "\n",
       "    .dataframe tbody tr th {\n",
       "        vertical-align: top;\n",
       "    }\n",
       "\n",
       "    .dataframe thead th {\n",
       "        text-align: right;\n",
       "    }\n",
       "</style>\n",
       "<table border=\"1\" class=\"dataframe\">\n",
       "  <thead>\n",
       "    <tr style=\"text-align: right;\">\n",
       "      <th></th>\n",
       "      <th>0</th>\n",
       "      <th>1</th>\n",
       "      <th>2</th>\n",
       "    </tr>\n",
       "  </thead>\n",
       "  <tbody>\n",
       "    <tr>\n",
       "      <th>0</th>\n",
       "      <td>180</td>\n",
       "      <td>neutral</td>\n",
       "      <td>Jimmy this ready for review/commit? If so plea...</td>\n",
       "    </tr>\n",
       "    <tr>\n",
       "      <th>1</th>\n",
       "      <td>2091</td>\n",
       "      <td>neutral</td>\n",
       "      <td>Edited these issues to set the fix version.</td>\n",
       "    </tr>\n",
       "    <tr>\n",
       "      <th>2</th>\n",
       "      <td>2685</td>\n",
       "      <td>neutral</td>\n",
       "      <td>Integrated in Hadoop-Mapreduce-trunk #1386 (Se...</td>\n",
       "    </tr>\n",
       "    <tr>\n",
       "      <th>3</th>\n",
       "      <td>2987</td>\n",
       "      <td>positive</td>\n",
       "      <td>Thanks for the patch</td>\n",
       "    </tr>\n",
       "    <tr>\n",
       "      <th>4</th>\n",
       "      <td>3399</td>\n",
       "      <td>neutral</td>\n",
       "      <td>Changed MULTI_TEXTVALUE_SEPARATOR into a prope...</td>\n",
       "    </tr>\n",
       "  </tbody>\n",
       "</table>\n",
       "</div>"
      ],
      "text/plain": [
       "      0         1                                                  2\n",
       "0   180   neutral  Jimmy this ready for review/commit? If so plea...\n",
       "1  2091   neutral        Edited these issues to set the fix version.\n",
       "2  2685   neutral  Integrated in Hadoop-Mapreduce-trunk #1386 (Se...\n",
       "3  2987  positive                               Thanks for the patch\n",
       "4  3399   neutral  Changed MULTI_TEXTVALUE_SEPARATOR into a prope..."
      ]
     },
     "execution_count": 5,
     "metadata": {},
     "output_type": "execute_result"
    }
   ],
   "source": [
    "#showing the first 5 lines of the test data\n",
    "test_df=pd.read_csv(test_path, encoding=\"utf-16\", header=None)\n",
    "test_df[2]=test_df[2].astype(str)\n",
    "test_df.head()\n"
   ]
  },
  {
   "cell_type": "code",
   "execution_count": 6,
   "metadata": {
    "execution": {
     "iopub.status.busy": "2024-04-16T18:20:14.099304Z",
     "iopub.status.idle": "2024-04-16T18:20:14.099844Z"
    },
    "papermill": {
     "duration": 0.060808,
     "end_time": "2024-04-17T07:23:24.704925",
     "exception": false,
     "start_time": "2024-04-17T07:23:24.644117",
     "status": "completed"
    },
    "tags": []
   },
   "outputs": [
    {
     "name": "stdout",
     "output_type": "stream",
     "text": [
      "<class 'pandas.core.frame.DataFrame'>\n"
     ]
    }
   ],
   "source": [
    "print(type(train_df))"
   ]
  },
  {
   "cell_type": "code",
   "execution_count": 7,
   "metadata": {
    "execution": {
     "iopub.status.busy": "2024-04-16T18:20:14.100910Z",
     "iopub.status.idle": "2024-04-16T18:20:14.101476Z"
    },
    "papermill": {
     "duration": 0.060575,
     "end_time": "2024-04-17T07:23:24.818339",
     "exception": false,
     "start_time": "2024-04-17T07:23:24.757764",
     "status": "completed"
    },
    "tags": []
   },
   "outputs": [],
   "source": [
    "x_train = train_df[1].values.tolist()\n",
    "y_train = train_df[2].values.tolist()\n",
    "x_test = test_df[2].values.tolist()\n",
    "y_test = test_df[1].values.tolist()\n",
    "\n"
   ]
  },
  {
   "cell_type": "code",
   "execution_count": 8,
   "metadata": {
    "execution": {
     "iopub.status.busy": "2024-04-16T18:20:14.102685Z",
     "iopub.status.idle": "2024-04-16T18:20:14.103304Z"
    },
    "papermill": {
     "duration": 18.808335,
     "end_time": "2024-04-17T07:23:43.677470",
     "exception": false,
     "start_time": "2024-04-17T07:23:24.869135",
     "status": "completed"
    },
    "tags": []
   },
   "outputs": [
    {
     "name": "stdout",
     "output_type": "stream",
     "text": [
      "downloading pretrained BERT model (uncased_L-12_H-768_A-12.zip)...\n",
      "[██████████████████████████████████████████████████]\n",
      "extracting pretrained BERT model...\n",
      "done.\n",
      "\n",
      "cleanup downloaded zip...\n",
      "done.\n",
      "\n",
      "preprocessing train...\n",
      "language: en\n"
     ]
    },
    {
     "data": {
      "text/html": [
       "done."
      ],
      "text/plain": [
       "<IPython.core.display.HTML object>"
      ]
     },
     "metadata": {},
     "output_type": "display_data"
    },
    {
     "name": "stdout",
     "output_type": "stream",
     "text": [
      "Is Multi-Label? False\n",
      "preprocessing test...\n",
      "language: en\n"
     ]
    },
    {
     "data": {
      "text/html": [
       "done."
      ],
      "text/plain": [
       "<IPython.core.display.HTML object>"
      ]
     },
     "metadata": {},
     "output_type": "display_data"
    },
    {
     "name": "stdout",
     "output_type": "stream",
     "text": [
      "task: text classification\n"
     ]
    }
   ],
   "source": [
    "# Preprocess the text data\n",
    "(x_train, y_train), (x_test, y_test), preproc = text.texts_from_array(x_train=x_train,\n",
    "                                                                      y_train=y_train,\n",
    "                                                                      x_test=x_test,\n",
    "                                                                      y_test=y_test,\n",
    "                                                                      maxlen=500,\n",
    "                                                                      preprocess_mode='bert')"
   ]
  },
  {
   "cell_type": "code",
   "execution_count": 9,
   "metadata": {
    "execution": {
     "iopub.status.busy": "2024-04-16T18:20:14.104375Z",
     "iopub.status.idle": "2024-04-16T18:20:14.104924Z"
    },
    "papermill": {
     "duration": 14.924423,
     "end_time": "2024-04-17T07:23:58.789973",
     "exception": false,
     "start_time": "2024-04-17T07:23:43.865550",
     "status": "completed"
    },
    "tags": []
   },
   "outputs": [
    {
     "name": "stdout",
     "output_type": "stream",
     "text": [
      "Is Multi-Label? False\n",
      "maxlen is 500\n",
      "done.\n"
     ]
    }
   ],
   "source": [
    "model = text.text_classifier('bert', (x_train, y_train) , preproc=preproc)"
   ]
  },
  {
   "cell_type": "code",
   "execution_count": 10,
   "metadata": {
    "execution": {
     "iopub.status.busy": "2024-04-16T18:20:14.105897Z",
     "iopub.status.idle": "2024-04-16T18:20:14.106608Z"
    },
    "papermill": {
     "duration": 0.976518,
     "end_time": "2024-04-17T07:23:59.955596",
     "exception": false,
     "start_time": "2024-04-17T07:23:58.979078",
     "status": "completed"
    },
    "tags": []
   },
   "outputs": [],
   "source": [
    "learner = ktrain.get_learner(model, \n",
    "                             train_data=(x_train, y_train), \n",
    "                             val_data=(x_test, y_test), \n",
    "                             batch_size=6)"
   ]
  },
  {
   "cell_type": "code",
   "execution_count": 11,
   "metadata": {
    "execution": {
     "iopub.status.busy": "2024-04-16T18:20:14.107682Z",
     "iopub.status.idle": "2024-04-16T18:20:14.108341Z"
    },
    "papermill": {
     "duration": 698.291044,
     "end_time": "2024-04-17T07:35:38.441598",
     "exception": false,
     "start_time": "2024-04-17T07:24:00.150554",
     "status": "completed"
    },
    "tags": []
   },
   "outputs": [
    {
     "name": "stdout",
     "output_type": "stream",
     "text": [
      "simulating training for different learning rates... this may take a few moments...\n",
      "Train on 4110 samples\n",
      "Epoch 1/1024\n",
      "4110/4110 [==============================] - 426s 104ms/sample - loss: 0.8121 - accuracy: 0.6246\n",
      "Epoch 2/1024\n",
      "2646/4110 [==================>...........] - ETA: 2:25 - loss: 1.0146 - accuracy: 0.6659\n",
      "\n",
      "done.\n",
      "Please invoke the Learner.lr_plot() method to visually inspect the loss plot to help identify the maximal learning rate associated with falling loss.\n"
     ]
    }
   ],
   "source": [
    "learner.lr_find()"
   ]
  },
  {
   "cell_type": "code",
   "execution_count": 12,
   "metadata": {
    "execution": {
     "iopub.status.busy": "2024-04-16T18:20:14.109310Z",
     "iopub.status.idle": "2024-04-16T18:20:14.109959Z"
    },
    "papermill": {
     "duration": 1.324292,
     "end_time": "2024-04-17T07:35:40.362039",
     "exception": false,
     "start_time": "2024-04-17T07:35:39.037747",
     "status": "completed"
    },
    "tags": []
   },
   "outputs": [
    {
     "data": {
      "image/png": "[encoded data removed]",
      "text/plain": [
       "<Figure size 432x288 with 1 Axes>"
      ]
     },
     "metadata": {
      "needs_background": "light"
     },
     "output_type": "display_data"
    }
   ],
   "source": [
    "learner.lr_plot()"
   ]
  },
  {
   "cell_type": "code",
   "execution_count": 13,
   "metadata": {
    "execution": {
     "iopub.status.busy": "2024-04-16T18:20:14.110850Z",
     "iopub.status.idle": "2024-04-16T18:20:14.111524Z"
    },
    "papermill": {
     "duration": 2756.279508,
     "end_time": "2024-04-17T08:21:37.240874",
     "exception": false,
     "start_time": "2024-04-17T07:35:40.961366",
     "status": "completed"
    },
    "tags": []
   },
   "outputs": [
    {
     "name": "stdout",
     "output_type": "stream",
     "text": [
      "reduce_on_plateau automatically enabled at patience=2\n",
      "\n",
      "\n",
      "begin training using triangular learning rate policy with max lr of 2e-05...\n",
      "Train on 4110 samples, validate on 1759 samples\n",
      "Epoch 1/1024\n",
      "4110/4110 [==============================] - 475s 115ms/sample - loss: 0.5082 - accuracy: 0.7995 - val_loss: 0.3205 - val_accuracy: 0.8806\n",
      "Epoch 2/1024\n",
      "4110/4110 [==============================] - 454s 110ms/sample - loss: 0.2754 - accuracy: 0.8968 - val_loss: 0.3208 - val_accuracy: 0.8806\n",
      "Epoch 3/1024\n",
      "4104/4110 [============================>.] - ETA: 0s - loss: 0.1934 - accuracy: 0.9276\n",
      "Epoch 00003: Reducing Max LR on Plateau: new max lr will be 1e-05 (if not early_stopping).\n",
      "4110/4110 [==============================] - 456s 111ms/sample - loss: 0.1932 - accuracy: 0.9277 - val_loss: 0.3693 - val_accuracy: 0.8749\n",
      "Epoch 4/1024\n",
      "4110/4110 [==============================] - 457s 111ms/sample - loss: 0.1080 - accuracy: 0.9625 - val_loss: 0.4093 - val_accuracy: 0.8795\n",
      "Epoch 5/1024\n",
      "4104/4110 [============================>.] - ETA: 0s - loss: 0.0737 - accuracy: 0.9742\n",
      "Epoch 00005: Reducing Max LR on Plateau: new max lr will be 5e-06 (if not early_stopping).\n",
      "4110/4110 [==============================] - 456s 111ms/sample - loss: 0.0745 - accuracy: 0.9740 - val_loss: 0.4993 - val_accuracy: 0.8715\n",
      "Epoch 6/1024\n",
      "4104/4110 [============================>.] - ETA: 0s - loss: 0.0463 - accuracy: 0.9837Restoring model weights from the end of the best epoch.\n",
      "4110/4110 [==============================] - 457s 111ms/sample - loss: 0.0463 - accuracy: 0.9837 - val_loss: 0.5342 - val_accuracy: 0.8687\n",
      "Epoch 00006: early stopping\n",
      "Weights from best epoch have been loaded into model.\n"
     ]
    },
    {
     "data": {
      "text/plain": [
       "<tensorflow.python.keras.callbacks.History at 0x7867b2cf9510>"
      ]
     },
     "execution_count": 13,
     "metadata": {},
     "output_type": "execute_result"
    }
   ],
   "source": [
    "# 2e-5 is one of the LRs  recommended by Google and is consistent with the plot above.\n",
    "learner.autofit(2e-5, early_stopping=5)"
   ]
  },
  {
   "cell_type": "code",
   "execution_count": 14,
   "metadata": {
    "papermill": {
     "duration": 4.916094,
     "end_time": "2024-04-17T08:21:44.242919",
     "exception": false,
     "start_time": "2024-04-17T08:21:39.326825",
     "status": "completed"
    },
    "tags": []
   },
   "outputs": [],
   "source": [
    "predictor = ktrain.get_predictor(learner.model,preproc=preproc)\n",
    "predictor.save('model')"
   ]
  },
  {
   "cell_type": "code",
   "execution_count": 15,
   "metadata": {
    "execution": {
     "iopub.status.busy": "2024-04-16T18:20:14.114267Z",
     "iopub.status.idle": "2024-04-16T18:20:14.114875Z"
    },
    "papermill": {
     "duration": 2.054087,
     "end_time": "2024-04-17T08:21:48.315739",
     "exception": false,
     "start_time": "2024-04-17T08:21:46.261652",
     "status": "completed"
    },
    "tags": []
   },
   "outputs": [],
   "source": [
    "predictor = ktrain.get_predictor(learner.model, preproc)"
   ]
  },
  {
   "cell_type": "code",
   "execution_count": 16,
   "metadata": {
    "execution": {
     "iopub.status.busy": "2024-04-16T18:20:14.115774Z",
     "iopub.status.idle": "2024-04-16T18:20:14.116391Z"
    },
    "papermill": {
     "duration": 2.052532,
     "end_time": "2024-04-17T08:21:52.382700",
     "exception": false,
     "start_time": "2024-04-17T08:21:50.330168",
     "status": "completed"
    },
    "tags": []
   },
   "outputs": [],
   "source": [
    "data=test_df[2].tolist()\n",
    "label=test_df[1].tolist()"
   ]
  },
  {
   "cell_type": "code",
   "execution_count": 17,
   "metadata": {
    "execution": {
     "iopub.status.busy": "2024-04-16T18:20:14.117319Z",
     "iopub.status.idle": "2024-04-16T18:20:14.117808Z"
    },
    "papermill": {
     "duration": 214.200372,
     "end_time": "2024-04-17T08:25:28.587027",
     "exception": false,
     "start_time": "2024-04-17T08:21:54.386655",
     "status": "completed"
    },
    "tags": []
   },
   "outputs": [],
   "source": [
    "i=0\n",
    "correct=0\n",
    "wrong=0\n",
    "total=len(data)\n",
    "true_lab=[]\n",
    "pred_lab=[]\n",
    "text=[]\n",
    "for dt in data:\n",
    "    result=predictor.predict(dt)\n",
    "    if not result== label[i]:\n",
    "        text.append(dt)\n",
    "        pred_lab.append(result)\n",
    "        true_lab.append(label[i])\n",
    "        wrong+=1\n",
    "    else:\n",
    "        correct+=1\n",
    "    \n",
    "    i+=1\n",
    "\n",
    "name_dict = {\n",
    "            'Name': text,\n",
    "            'Gold Label' : true_lab,\n",
    "            'Predicted Label': pred_lab\n",
    "          }\n",
    "\n",
    "wrong_data= pd.DataFrame(name_dict)\n",
    "\n",
    "wrong_data.to_csv(\"wrong_results.csv\", sep=';')   \n",
    "    \n",
    "    "
   ]
  },
  {
   "cell_type": "code",
   "execution_count": 18,
   "metadata": {
    "execution": {
     "iopub.status.busy": "2024-04-16T18:20:14.118746Z",
     "iopub.status.idle": "2024-04-16T18:20:14.119599Z"
    },
    "papermill": {
     "duration": 42.068515,
     "end_time": "2024-04-17T08:26:12.689550",
     "exception": false,
     "start_time": "2024-04-17T08:25:30.621035",
     "status": "completed"
    },
    "tags": []
   },
   "outputs": [
    {
     "name": "stdout",
     "output_type": "stream",
     "text": [
      "              precision    recall  f1-score   support\n",
      "\n",
      "    negative       0.82      0.74      0.78       235\n",
      "     neutral       0.92      0.91      0.91      1186\n",
      "    positive       0.80      0.89      0.84       338\n",
      "\n",
      "    accuracy                           0.88      1759\n",
      "   macro avg       0.85      0.85      0.84      1759\n",
      "weighted avg       0.88      0.88      0.88      1759\n",
      "\n"
     ]
    }
   ],
   "source": [
    "names = ['negative', 'neutral', 'positive']\n",
    "y_pred = predictor.predict(data)\n",
    "y_true= test_df[1]\n",
    "print(classification_report(y_true, y_pred, target_names=names))"
   ]
  },
  {
   "cell_type": "code",
   "execution_count": 19,
   "metadata": {
    "execution": {
     "iopub.status.busy": "2024-04-16T18:20:14.120604Z",
     "iopub.status.idle": "2024-04-16T18:20:14.121153Z"
    },
    "papermill": {
     "duration": 2.066805,
     "end_time": "2024-04-17T08:26:16.750638",
     "exception": false,
     "start_time": "2024-04-17T08:26:14.683833",
     "status": "completed"
    },
    "tags": []
   },
   "outputs": [
    {
     "name": "stdout",
     "output_type": "stream",
     "text": [
      "Correct:  1549 / 1759 \n",
      "Wrong:  210 / 1759\n"
     ]
    }
   ],
   "source": [
    "print(\"Correct: \", correct,\"/\",total,\"\\nWrong: \", wrong,\"/\",total)"
   ]
  }
 ],
 "metadata": {
  "kaggle": {
   "accelerator": "gpu",
   "dataSources": [
    {
     "datasetId": 627504,
     "sourceId": 1151601,
     "sourceType": "datasetVersion"
    }
   ],
   "dockerImageVersionId": 29908,
   "isGpuEnabled": true,
   "isInternetEnabled": true,
   "language": "python",
   "sourceType": "notebook"
  },
  "kernelspec": {
   "display_name": "Python 3 (ipykernel)",
   "language": "python",
   "name": "python3"
  },
  "language_info": {
   "codemirror_mode": {
    "name": "ipython",
    "version": 3
   },
   "file_extension": ".py",
   "mimetype": "text/x-python",
   "name": "python",
   "nbconvert_exporter": "python",
   "pygments_lexer": "ipython3",
   "version": "3.10.12"
  },
  "papermill": {
   "duration": 3825.42247,
   "end_time": "2024-04-17T08:26:23.058332",
   "environment_variables": {},
   "exception": null,
   "input_path": "__notebook__.ipynb",
   "output_path": "__notebook__.ipynb",
   "parameters": {},
   "start_time": "2024-04-17T07:22:37.635862",
   "version": "1.2.1"
  }
 },
 "nbformat": 4,
 "nbformat_minor": 4
}
